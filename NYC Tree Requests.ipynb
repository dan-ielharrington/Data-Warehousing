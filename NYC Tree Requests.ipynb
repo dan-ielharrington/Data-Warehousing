{
 "cells": [
  {
   "attachments": {
    "Screen%20Shot%202022-05-06%20at%209.37.06%20PM.png": {
     "image/png": "[encoded data removed]"
    }
   },
   "cell_type": "markdown",
   "id": "8140cb85",
   "metadata": {},
   "source": [
    "![Screen%20Shot%202022-05-06%20at%209.37.06%20PM.png](attachment:Screen%20Shot%202022-05-06%20at%209.37.06%20PM.png)"
   ]
  },
  {
   "cell_type": "markdown",
   "id": "8776746d",
   "metadata": {},
   "source": [
    "***\n"
   ]
  },
  {
   "cell_type": "markdown",
   "id": "b1bf5b9d",
   "metadata": {},
   "source": [
    "# NYC 311 Tree Requests\n",
    "\n",
    "## Initial Setup and Dataframe\n",
    "***\n",
    "First, we imported the necessary libraries and entered our app token, data set ID, and other necessary information to retrieve data using the Socrata/sodapy module.  \n",
    "The results are then stored in a dataframe."
   ]
  },
  {
   "cell_type": "code",
   "execution_count": 1,
   "id": "5a494af9",
   "metadata": {},
   "outputs": [],
   "source": [
    "import os\n",
    "import csv\n",
    "import pandas as pd\n",
    "from sodapy import Socrata\n",
    "from datetime import datetime"
   ]
  },
  {
   "cell_type": "code",
   "execution_count": 2,
   "id": "cdb9b19a",
   "metadata": {},
   "outputs": [],
   "source": [
    "data_url='data.cityofnewyork.us' \n",
    "data_set='erm2-nwe9'\n",
    "app_token='OaDaDFKhUvsnpwRgJBNoStfYZ'\n",
    "client = Socrata(data_url,app_token)  \n",
    "client.timeout = 60\n",
    "results = client.get(data_set, limit=200000)\n",
    "df = pd.DataFrame.from_records(results)"
   ]
  },
  {
   "cell_type": "markdown",
   "id": "65835ac3",
   "metadata": {},
   "source": [
    "## Extracting New Tree Requests from the 311 Dataset\n",
    "***"
   ]
  },
  {
   "cell_type": "code",
   "execution_count": 3,
   "id": "b15ba433",
   "metadata": {},
   "outputs": [],
   "source": [
    "metadata = client.get_metadata(data_set)\n",
    "[x['name'] for x in metadata['columns']]\n",
    "new_trees = client.get(data_set, where=\"Complaint_Type = 'New Tree Request' \", limit=200000)\n",
    "new_trees_df = pd.DataFrame.from_records(new_trees)"
   ]
  },
  {
   "cell_type": "markdown",
   "id": "c5ebed80",
   "metadata": {},
   "source": [
    "### Data Cleansing\n",
    "Next, we extracted the necessary columns from our dataframe: "
   ]
  },
  {
   "cell_type": "code",
   "execution_count": 4,
   "id": "64e6bd39",
   "metadata": {},
   "outputs": [],
   "source": [
    "new_trees_df = new_trees_df.drop(columns=['agency', 'agency_name', 'descriptor', 'location_type','incident_address', 'street_name','park_borough','city','facility_type', 'closed_date', 'landmark', 'location','x_coordinate_state_plane','bbl','community_board','resolution_action_updated_date','resolution_description', 'due_date','cross_street_1', 'cross_street_2', 'intersection_street_1', 'intersection_street_2','address_type','open_data_channel_type','park_facility_name','y_coordinate_state_plane'])"
   ]
  },
  {
   "cell_type": "code",
   "execution_count": 5,
   "id": "4e7a9e85",
   "metadata": {},
   "outputs": [
    {
     "data": {
      "text/html": [
       "<div>\n",
       "<style scoped>\n",
       "    .dataframe tbody tr th:only-of-type {\n",
       "        vertical-align: middle;\n",
       "    }\n",
       "\n",
       "    .dataframe tbody tr th {\n",
       "        vertical-align: top;\n",
       "    }\n",
       "\n",
       "    .dataframe thead th {\n",
       "        text-align: right;\n",
       "    }\n",
       "</style>\n",
       "<table border=\"1\" class=\"dataframe\">\n",
       "  <thead>\n",
       "    <tr style=\"text-align: right;\">\n",
       "      <th></th>\n",
       "      <th>unique_key</th>\n",
       "      <th>created_date</th>\n",
       "      <th>complaint_type</th>\n",
       "      <th>incident_zip</th>\n",
       "      <th>status</th>\n",
       "      <th>borough</th>\n",
       "      <th>latitude</th>\n",
       "      <th>longitude</th>\n",
       "    </tr>\n",
       "  </thead>\n",
       "  <tbody>\n",
       "    <tr>\n",
       "      <th>0</th>\n",
       "      <td>39563718</td>\n",
       "      <td>2018-06-25T12:07:26.000</td>\n",
       "      <td>New Tree Request</td>\n",
       "      <td>11218</td>\n",
       "      <td>In Progress</td>\n",
       "      <td>BROOKLYN</td>\n",
       "      <td>40.63410604236388</td>\n",
       "      <td>-73.97886544147784</td>\n",
       "    </tr>\n",
       "    <tr>\n",
       "      <th>1</th>\n",
       "      <td>45244583</td>\n",
       "      <td>2019-12-25T08:40:04.000</td>\n",
       "      <td>New Tree Request</td>\n",
       "      <td>11201</td>\n",
       "      <td>In Progress</td>\n",
       "      <td>BROOKLYN</td>\n",
       "      <td>40.693203021574575</td>\n",
       "      <td>-73.99684467618411</td>\n",
       "    </tr>\n",
       "    <tr>\n",
       "      <th>2</th>\n",
       "      <td>39569182</td>\n",
       "      <td>2018-06-26T08:56:48.000</td>\n",
       "      <td>New Tree Request</td>\n",
       "      <td>11223</td>\n",
       "      <td>In Progress</td>\n",
       "      <td>BROOKLYN</td>\n",
       "      <td>40.594198472669724</td>\n",
       "      <td>-73.97391625583192</td>\n",
       "    </tr>\n",
       "    <tr>\n",
       "      <th>3</th>\n",
       "      <td>45245090</td>\n",
       "      <td>2019-12-25T08:40:04.000</td>\n",
       "      <td>New Tree Request</td>\n",
       "      <td>11201</td>\n",
       "      <td>In Progress</td>\n",
       "      <td>BROOKLYN</td>\n",
       "      <td>40.69316185063515</td>\n",
       "      <td>-73.99686631462531</td>\n",
       "    </tr>\n",
       "    <tr>\n",
       "      <th>4</th>\n",
       "      <td>45245092</td>\n",
       "      <td>2019-12-25T10:46:29.000</td>\n",
       "      <td>New Tree Request</td>\n",
       "      <td>11426</td>\n",
       "      <td>In Progress</td>\n",
       "      <td>QUEENS</td>\n",
       "      <td>40.74608794734839</td>\n",
       "      <td>-73.72753489549001</td>\n",
       "    </tr>\n",
       "    <tr>\n",
       "      <th>5</th>\n",
       "      <td>39478244</td>\n",
       "      <td>2018-06-16T18:56:59.000</td>\n",
       "      <td>New Tree Request</td>\n",
       "      <td>10023</td>\n",
       "      <td>Closed</td>\n",
       "      <td>MANHATTAN</td>\n",
       "      <td>40.77675732861632</td>\n",
       "      <td>-73.98131509787878</td>\n",
       "    </tr>\n",
       "    <tr>\n",
       "      <th>6</th>\n",
       "      <td>39484381</td>\n",
       "      <td>2018-06-16T11:40:12.000</td>\n",
       "      <td>New Tree Request</td>\n",
       "      <td>11231</td>\n",
       "      <td>Closed</td>\n",
       "      <td>BROOKLYN</td>\n",
       "      <td>40.67713487526261</td>\n",
       "      <td>-73.99172603035278</td>\n",
       "    </tr>\n",
       "    <tr>\n",
       "      <th>7</th>\n",
       "      <td>39493837</td>\n",
       "      <td>2018-06-18T19:18:24.000</td>\n",
       "      <td>New Tree Request</td>\n",
       "      <td>10024</td>\n",
       "      <td>Closed</td>\n",
       "      <td>MANHATTAN</td>\n",
       "      <td>40.78813737195965</td>\n",
       "      <td>-73.9700737676928</td>\n",
       "    </tr>\n",
       "    <tr>\n",
       "      <th>8</th>\n",
       "      <td>39503501</td>\n",
       "      <td>2018-06-19T19:51:45.000</td>\n",
       "      <td>New Tree Request</td>\n",
       "      <td>11223</td>\n",
       "      <td>In Progress</td>\n",
       "      <td>BROOKLYN</td>\n",
       "      <td>40.59067844551486</td>\n",
       "      <td>-73.96910009745238</td>\n",
       "    </tr>\n",
       "    <tr>\n",
       "      <th>9</th>\n",
       "      <td>39495072</td>\n",
       "      <td>2018-06-18T12:25:06.000</td>\n",
       "      <td>New Tree Request</td>\n",
       "      <td>11203</td>\n",
       "      <td>Closed</td>\n",
       "      <td>BROOKLYN</td>\n",
       "      <td>40.65221466617298</td>\n",
       "      <td>-73.9372205987594</td>\n",
       "    </tr>\n",
       "  </tbody>\n",
       "</table>\n",
       "</div>"
      ],
      "text/plain": [
       "  unique_key             created_date    complaint_type incident_zip  \\\n",
       "0   39563718  2018-06-25T12:07:26.000  New Tree Request        11218   \n",
       "1   45244583  2019-12-25T08:40:04.000  New Tree Request        11201   \n",
       "2   39569182  2018-06-26T08:56:48.000  New Tree Request        11223   \n",
       "3   45245090  2019-12-25T08:40:04.000  New Tree Request        11201   \n",
       "4   45245092  2019-12-25T10:46:29.000  New Tree Request        11426   \n",
       "5   39478244  2018-06-16T18:56:59.000  New Tree Request        10023   \n",
       "6   39484381  2018-06-16T11:40:12.000  New Tree Request        11231   \n",
       "7   39493837  2018-06-18T19:18:24.000  New Tree Request        10024   \n",
       "8   39503501  2018-06-19T19:51:45.000  New Tree Request        11223   \n",
       "9   39495072  2018-06-18T12:25:06.000  New Tree Request        11203   \n",
       "\n",
       "        status    borough            latitude           longitude  \n",
       "0  In Progress   BROOKLYN   40.63410604236388  -73.97886544147784  \n",
       "1  In Progress   BROOKLYN  40.693203021574575  -73.99684467618411  \n",
       "2  In Progress   BROOKLYN  40.594198472669724  -73.97391625583192  \n",
       "3  In Progress   BROOKLYN   40.69316185063515  -73.99686631462531  \n",
       "4  In Progress     QUEENS   40.74608794734839  -73.72753489549001  \n",
       "5       Closed  MANHATTAN   40.77675732861632  -73.98131509787878  \n",
       "6       Closed   BROOKLYN   40.67713487526261  -73.99172603035278  \n",
       "7       Closed  MANHATTAN   40.78813737195965   -73.9700737676928  \n",
       "8  In Progress   BROOKLYN   40.59067844551486  -73.96910009745238  \n",
       "9       Closed   BROOKLYN   40.65221466617298   -73.9372205987594  "
      ]
     },
     "execution_count": 5,
     "metadata": {},
     "output_type": "execute_result"
    }
   ],
   "source": [
    "new_trees_df.shape\n",
    "new_trees_df.head(10)"
   ]
  },
  {
   "cell_type": "markdown",
   "id": "16034e0f",
   "metadata": {},
   "source": [
    "And then exported the results to a csv file for use in BigQuery."
   ]
  },
  {
   "cell_type": "code",
   "execution_count": 36,
   "id": "1d66ab6a",
   "metadata": {},
   "outputs": [],
   "source": [
    "new_trees_df.to_csv(\"newTreeRequests.csv\")"
   ]
  },
  {
   "cell_type": "markdown",
   "id": "c7d68ae4",
   "metadata": {},
   "source": [
    "## Extracting Dead Tree Dataset\n",
    "***"
   ]
  },
  {
   "cell_type": "markdown",
   "id": "6bbd30f8",
   "metadata": {},
   "source": [
    "The process was repeated to extract the \"Dead Tree\", \"Dying/Damaged Tree\", and \"Damaged Tree\" requests. The Damaged Tree requests were included because many of them are actually requests for tree removal, which impacts some of our KPIs. "
   ]
  },
  {
   "cell_type": "code",
   "execution_count": 6,
   "id": "76a4f52f",
   "metadata": {},
   "outputs": [],
   "source": [
    "dead_trees = client.get(data_set, where=\"Complaint_Type = 'Dead Tree' \", limit=200000)\n",
    "dead_tree_df = pd.DataFrame.from_records(dead_trees)"
   ]
  },
  {
   "cell_type": "code",
   "execution_count": 7,
   "id": "5fbf16ff",
   "metadata": {},
   "outputs": [
    {
     "data": {
      "text/plain": [
       "(57498, 34)"
      ]
     },
     "execution_count": 7,
     "metadata": {},
     "output_type": "execute_result"
    }
   ],
   "source": [
    "dead_tree_df.shape"
   ]
  },
  {
   "cell_type": "code",
   "execution_count": 8,
   "id": "fa9fbb5b",
   "metadata": {},
   "outputs": [],
   "source": [
    "dead_tree_df = dead_tree_df.drop(columns=['agency', 'agency_name', 'descriptor', 'location_type','incident_address', 'street_name','park_borough','city','facility_type', 'closed_date', 'landmark', 'location','x_coordinate_state_plane','bbl','community_board','resolution_action_updated_date','resolution_description', 'due_date','cross_street_1', 'cross_street_2', 'intersection_street_1', 'intersection_street_2','address_type','open_data_channel_type','park_facility_name','y_coordinate_state_plane'])\n"
   ]
  },
  {
   "cell_type": "code",
   "execution_count": 9,
   "id": "0655fa66",
   "metadata": {},
   "outputs": [
    {
     "data": {
      "text/plain": [
       "(57498, 8)"
      ]
     },
     "execution_count": 9,
     "metadata": {},
     "output_type": "execute_result"
    }
   ],
   "source": [
    "dead_tree_df.shape"
   ]
  },
  {
   "cell_type": "markdown",
   "id": "bbded576",
   "metadata": {},
   "source": [
    "After consulting the data dictionary for the 311 Dataset, we found that many of the Damaged Tree Requests actually referred to a tree that was dead (or soon to be dead!) This affects our calculation of the tree population and impacts our recommendations for appropriately allocating resources in the five boroughs. In order to filter out the instances that were relevant to our KPIs, we dropped any rows containing references to damaged limbs or branches (as well as a rogue value pertaining to child care.)"
   ]
  },
  {
   "cell_type": "code",
   "execution_count": 10,
   "id": "1b92957b",
   "metadata": {},
   "outputs": [],
   "source": [
    "damaged_trees = client.get(data_set, where=\"Complaint_Type = 'Damaged Tree'\", limit=500000)\n",
    "damaged = pd.DataFrame.from_records(damaged_trees)"
   ]
  },
  {
   "cell_type": "code",
   "execution_count": 11,
   "id": "bc3d29af",
   "metadata": {},
   "outputs": [
    {
     "data": {
      "text/plain": [
       "(395234, 34)"
      ]
     },
     "execution_count": 11,
     "metadata": {},
     "output_type": "execute_result"
    }
   ],
   "source": [
    "damaged.shape"
   ]
  },
  {
   "cell_type": "code",
   "execution_count": 12,
   "id": "2ed74595",
   "metadata": {},
   "outputs": [],
   "source": [
    "damaged = damaged[damaged[\"descriptor\"].str.contains(\"Branch Cracked and Will Fall\")==False]"
   ]
  },
  {
   "cell_type": "code",
   "execution_count": 13,
   "id": "16c4b717",
   "metadata": {},
   "outputs": [
    {
     "data": {
      "text/plain": [
       "(158667, 34)"
      ]
     },
     "execution_count": 13,
     "metadata": {},
     "output_type": "execute_result"
    }
   ],
   "source": [
    "damaged = damaged[damaged[\"descriptor\"].str.contains(\"Branch or Limb Has Fallen Down\")==False]\n",
    "damaged.shape"
   ]
  },
  {
   "cell_type": "code",
   "execution_count": 14,
   "id": "11a9d07d",
   "metadata": {},
   "outputs": [
    {
     "data": {
      "text/plain": [
       "(152106, 34)"
      ]
     },
     "execution_count": 14,
     "metadata": {},
     "output_type": "execute_result"
    }
   ],
   "source": [
    "damaged = damaged[damaged[\"descriptor\"].str.contains(\"Tree Trunk Split\")==False]\n",
    "damaged.shape"
   ]
  },
  {
   "cell_type": "markdown",
   "id": "029e10c9",
   "metadata": {},
   "source": [
    "Correcting a rogue value (possibly an input error):"
   ]
  },
  {
   "cell_type": "code",
   "execution_count": 15,
   "id": "cd3a5508",
   "metadata": {},
   "outputs": [
    {
     "data": {
      "text/plain": [
       "(152105, 34)"
      ]
     },
     "execution_count": 15,
     "metadata": {},
     "output_type": "execute_result"
    }
   ],
   "source": [
    "damaged = damaged[damaged[\"descriptor\"].str.contains(\"Child Care Information\")==False]\n",
    "damaged.shape"
   ]
  },
  {
   "cell_type": "markdown",
   "id": "26a0742e",
   "metadata": {},
   "source": [
    "This reduced the number of rows in the \"Damaged Tree\" request category by 60%. Now we can proceed with dropping unnecessary rows in order to concatenate the dataframes before exporting the results to Google BigQuery. "
   ]
  },
  {
   "cell_type": "code",
   "execution_count": 16,
   "id": "e354b495",
   "metadata": {},
   "outputs": [
    {
     "data": {
      "text/plain": [
       "(152105, 8)"
      ]
     },
     "execution_count": 16,
     "metadata": {},
     "output_type": "execute_result"
    }
   ],
   "source": [
    "damaged = damaged.drop(columns=['agency', 'agency_name', 'descriptor', 'location_type','incident_address', 'street_name','park_borough','city','facility_type', 'closed_date', 'landmark', 'location','x_coordinate_state_plane','bbl','community_board','resolution_action_updated_date','resolution_description', 'due_date','cross_street_1', 'cross_street_2', 'intersection_street_1', 'intersection_street_2','address_type','open_data_channel_type','park_facility_name','y_coordinate_state_plane'])\n",
    "damaged.shape"
   ]
  },
  {
   "cell_type": "markdown",
   "id": "3e313299",
   "metadata": {},
   "source": [
    "### Joining the datasets:\n",
    "***"
   ]
  },
  {
   "cell_type": "code",
   "execution_count": 17,
   "id": "03235524",
   "metadata": {},
   "outputs": [],
   "source": [
    "dead_dying_tree = dead_tree_df.append(damaged)"
   ]
  },
  {
   "cell_type": "code",
   "execution_count": 18,
   "id": "94f88760",
   "metadata": {},
   "outputs": [
    {
     "data": {
      "text/plain": [
       "(209603, 8)"
      ]
     },
     "execution_count": 18,
     "metadata": {},
     "output_type": "execute_result"
    }
   ],
   "source": [
    "dead_dying_tree.shape"
   ]
  },
  {
   "cell_type": "code",
   "execution_count": 19,
   "id": "2aa92ed4",
   "metadata": {},
   "outputs": [
    {
     "data": {
      "text/html": [
       "<div>\n",
       "<style scoped>\n",
       "    .dataframe tbody tr th:only-of-type {\n",
       "        vertical-align: middle;\n",
       "    }\n",
       "\n",
       "    .dataframe tbody tr th {\n",
       "        vertical-align: top;\n",
       "    }\n",
       "\n",
       "    .dataframe thead th {\n",
       "        text-align: right;\n",
       "    }\n",
       "</style>\n",
       "<table border=\"1\" class=\"dataframe\">\n",
       "  <thead>\n",
       "    <tr style=\"text-align: right;\">\n",
       "      <th></th>\n",
       "      <th>unique_key</th>\n",
       "      <th>created_date</th>\n",
       "      <th>complaint_type</th>\n",
       "      <th>status</th>\n",
       "      <th>borough</th>\n",
       "      <th>incident_zip</th>\n",
       "      <th>latitude</th>\n",
       "      <th>longitude</th>\n",
       "    </tr>\n",
       "  </thead>\n",
       "  <tbody>\n",
       "    <tr>\n",
       "      <th>0</th>\n",
       "      <td>29223277</td>\n",
       "      <td>2014-11-04T09:07:07.000</td>\n",
       "      <td>Dead Tree</td>\n",
       "      <td>Closed</td>\n",
       "      <td>BROOKLYN</td>\n",
       "      <td>NaN</td>\n",
       "      <td>NaN</td>\n",
       "      <td>NaN</td>\n",
       "    </tr>\n",
       "    <tr>\n",
       "      <th>1</th>\n",
       "      <td>29888775</td>\n",
       "      <td>2015-02-06T16:25:27.000</td>\n",
       "      <td>Dead Tree</td>\n",
       "      <td>Closed</td>\n",
       "      <td>BROOKLYN</td>\n",
       "      <td>11235</td>\n",
       "      <td>NaN</td>\n",
       "      <td>NaN</td>\n",
       "    </tr>\n",
       "    <tr>\n",
       "      <th>2</th>\n",
       "      <td>29910948</td>\n",
       "      <td>2015-02-10T10:33:26.000</td>\n",
       "      <td>Dead Tree</td>\n",
       "      <td>Open</td>\n",
       "      <td>QUEENS</td>\n",
       "      <td>11423</td>\n",
       "      <td>NaN</td>\n",
       "      <td>NaN</td>\n",
       "    </tr>\n",
       "    <tr>\n",
       "      <th>3</th>\n",
       "      <td>30345546</td>\n",
       "      <td>2015-04-06T10:04:55.000</td>\n",
       "      <td>Dead Tree</td>\n",
       "      <td>Open</td>\n",
       "      <td>BROOKLYN</td>\n",
       "      <td>NaN</td>\n",
       "      <td>NaN</td>\n",
       "      <td>NaN</td>\n",
       "    </tr>\n",
       "    <tr>\n",
       "      <th>4</th>\n",
       "      <td>30456052</td>\n",
       "      <td>2015-04-22T13:50:31.000</td>\n",
       "      <td>Dead Tree</td>\n",
       "      <td>Open</td>\n",
       "      <td>BROOKLYN</td>\n",
       "      <td>11219</td>\n",
       "      <td>NaN</td>\n",
       "      <td>NaN</td>\n",
       "    </tr>\n",
       "    <tr>\n",
       "      <th>5</th>\n",
       "      <td>30472468</td>\n",
       "      <td>2015-04-24T13:21:08.000</td>\n",
       "      <td>Dead Tree</td>\n",
       "      <td>Closed</td>\n",
       "      <td>BROOKLYN</td>\n",
       "      <td>11209</td>\n",
       "      <td>NaN</td>\n",
       "      <td>NaN</td>\n",
       "    </tr>\n",
       "    <tr>\n",
       "      <th>6</th>\n",
       "      <td>30510775</td>\n",
       "      <td>2015-04-29T14:24:09.000</td>\n",
       "      <td>Dead Tree</td>\n",
       "      <td>Open</td>\n",
       "      <td>BROOKLYN</td>\n",
       "      <td>NaN</td>\n",
       "      <td>NaN</td>\n",
       "      <td>NaN</td>\n",
       "    </tr>\n",
       "    <tr>\n",
       "      <th>7</th>\n",
       "      <td>30527031</td>\n",
       "      <td>2015-05-01T03:00:31.000</td>\n",
       "      <td>Dead Tree</td>\n",
       "      <td>Open</td>\n",
       "      <td>MANHATTAN</td>\n",
       "      <td>NaN</td>\n",
       "      <td>NaN</td>\n",
       "      <td>NaN</td>\n",
       "    </tr>\n",
       "    <tr>\n",
       "      <th>8</th>\n",
       "      <td>30612796</td>\n",
       "      <td>2015-05-13T14:05:35.000</td>\n",
       "      <td>Dead Tree</td>\n",
       "      <td>Open</td>\n",
       "      <td>MANHATTAN</td>\n",
       "      <td>NaN</td>\n",
       "      <td>NaN</td>\n",
       "      <td>NaN</td>\n",
       "    </tr>\n",
       "    <tr>\n",
       "      <th>9</th>\n",
       "      <td>30624993</td>\n",
       "      <td>2015-05-15T18:53:49.000</td>\n",
       "      <td>Dead Tree</td>\n",
       "      <td>Open</td>\n",
       "      <td>QUEENS</td>\n",
       "      <td>NaN</td>\n",
       "      <td>NaN</td>\n",
       "      <td>NaN</td>\n",
       "    </tr>\n",
       "  </tbody>\n",
       "</table>\n",
       "</div>"
      ],
      "text/plain": [
       "  unique_key             created_date complaint_type  status    borough  \\\n",
       "0   29223277  2014-11-04T09:07:07.000      Dead Tree  Closed   BROOKLYN   \n",
       "1   29888775  2015-02-06T16:25:27.000      Dead Tree  Closed   BROOKLYN   \n",
       "2   29910948  2015-02-10T10:33:26.000      Dead Tree    Open     QUEENS   \n",
       "3   30345546  2015-04-06T10:04:55.000      Dead Tree    Open   BROOKLYN   \n",
       "4   30456052  2015-04-22T13:50:31.000      Dead Tree    Open   BROOKLYN   \n",
       "5   30472468  2015-04-24T13:21:08.000      Dead Tree  Closed   BROOKLYN   \n",
       "6   30510775  2015-04-29T14:24:09.000      Dead Tree    Open   BROOKLYN   \n",
       "7   30527031  2015-05-01T03:00:31.000      Dead Tree    Open  MANHATTAN   \n",
       "8   30612796  2015-05-13T14:05:35.000      Dead Tree    Open  MANHATTAN   \n",
       "9   30624993  2015-05-15T18:53:49.000      Dead Tree    Open     QUEENS   \n",
       "\n",
       "  incident_zip latitude longitude  \n",
       "0          NaN      NaN       NaN  \n",
       "1        11235      NaN       NaN  \n",
       "2        11423      NaN       NaN  \n",
       "3          NaN      NaN       NaN  \n",
       "4        11219      NaN       NaN  \n",
       "5        11209      NaN       NaN  \n",
       "6          NaN      NaN       NaN  \n",
       "7          NaN      NaN       NaN  \n",
       "8          NaN      NaN       NaN  \n",
       "9          NaN      NaN       NaN  "
      ]
     },
     "execution_count": 19,
     "metadata": {},
     "output_type": "execute_result"
    }
   ],
   "source": [
    "dead_dying_tree.head(10)"
   ]
  },
  {
   "cell_type": "code",
   "execution_count": 20,
   "id": "34548561",
   "metadata": {},
   "outputs": [
    {
     "data": {
      "text/html": [
       "<div>\n",
       "<style scoped>\n",
       "    .dataframe tbody tr th:only-of-type {\n",
       "        vertical-align: middle;\n",
       "    }\n",
       "\n",
       "    .dataframe tbody tr th {\n",
       "        vertical-align: top;\n",
       "    }\n",
       "\n",
       "    .dataframe thead th {\n",
       "        text-align: right;\n",
       "    }\n",
       "</style>\n",
       "<table border=\"1\" class=\"dataframe\">\n",
       "  <thead>\n",
       "    <tr style=\"text-align: right;\">\n",
       "      <th></th>\n",
       "      <th>unique_key</th>\n",
       "      <th>created_date</th>\n",
       "      <th>complaint_type</th>\n",
       "      <th>status</th>\n",
       "      <th>borough</th>\n",
       "      <th>incident_zip</th>\n",
       "      <th>latitude</th>\n",
       "      <th>longitude</th>\n",
       "    </tr>\n",
       "  </thead>\n",
       "  <tbody>\n",
       "    <tr>\n",
       "      <th>395213</th>\n",
       "      <td>42887988</td>\n",
       "      <td>2019-06-06T10:42:23.000</td>\n",
       "      <td>Damaged Tree</td>\n",
       "      <td>Closed</td>\n",
       "      <td>STATEN ISLAND</td>\n",
       "      <td>10314</td>\n",
       "      <td>40.594216050126846</td>\n",
       "      <td>-74.15820213852852</td>\n",
       "    </tr>\n",
       "    <tr>\n",
       "      <th>395215</th>\n",
       "      <td>42891941</td>\n",
       "      <td>2019-06-06T19:49:08.000</td>\n",
       "      <td>Damaged Tree</td>\n",
       "      <td>Closed</td>\n",
       "      <td>MANHATTAN</td>\n",
       "      <td>10003</td>\n",
       "      <td>40.72403183460069</td>\n",
       "      <td>-73.99027349922211</td>\n",
       "    </tr>\n",
       "    <tr>\n",
       "      <th>395217</th>\n",
       "      <td>42895165</td>\n",
       "      <td>2019-06-07T09:06:35.000</td>\n",
       "      <td>Damaged Tree</td>\n",
       "      <td>Closed</td>\n",
       "      <td>STATEN ISLAND</td>\n",
       "      <td>10314</td>\n",
       "      <td>40.59402693178068</td>\n",
       "      <td>-74.15800365008234</td>\n",
       "    </tr>\n",
       "    <tr>\n",
       "      <th>395220</th>\n",
       "      <td>43107758</td>\n",
       "      <td>2017-07-24T10:07:22.000</td>\n",
       "      <td>Damaged Tree</td>\n",
       "      <td>Assigned</td>\n",
       "      <td>QUEENS</td>\n",
       "      <td>11372</td>\n",
       "      <td>40.755311865629004</td>\n",
       "      <td>-73.88519429741868</td>\n",
       "    </tr>\n",
       "    <tr>\n",
       "      <th>395221</th>\n",
       "      <td>43107767</td>\n",
       "      <td>2017-07-24T12:16:59.000</td>\n",
       "      <td>Damaged Tree</td>\n",
       "      <td>Open</td>\n",
       "      <td>QUEENS</td>\n",
       "      <td>11375</td>\n",
       "      <td>NaN</td>\n",
       "      <td>NaN</td>\n",
       "    </tr>\n",
       "    <tr>\n",
       "      <th>395223</th>\n",
       "      <td>47040946</td>\n",
       "      <td>2020-07-30T02:02:56.000</td>\n",
       "      <td>Damaged Tree</td>\n",
       "      <td>Closed</td>\n",
       "      <td>BROOKLYN</td>\n",
       "      <td>11207</td>\n",
       "      <td>40.68262243113261</td>\n",
       "      <td>-73.8880704487505</td>\n",
       "    </tr>\n",
       "    <tr>\n",
       "      <th>395225</th>\n",
       "      <td>16215031</td>\n",
       "      <td>2010-03-15T15:04:06.000</td>\n",
       "      <td>Damaged Tree</td>\n",
       "      <td>Closed</td>\n",
       "      <td>BROOKLYN</td>\n",
       "      <td>11216</td>\n",
       "      <td>40.67702662934846</td>\n",
       "      <td>-73.95267801549666</td>\n",
       "    </tr>\n",
       "    <tr>\n",
       "      <th>395229</th>\n",
       "      <td>18342663</td>\n",
       "      <td>2010-07-26T14:12:38.000</td>\n",
       "      <td>Damaged Tree</td>\n",
       "      <td>Assigned</td>\n",
       "      <td>BRONX</td>\n",
       "      <td>10463</td>\n",
       "      <td>40.884255673730884</td>\n",
       "      <td>-73.88758632273493</td>\n",
       "    </tr>\n",
       "    <tr>\n",
       "      <th>395230</th>\n",
       "      <td>18696166</td>\n",
       "      <td>2010-09-16T21:12:02.000</td>\n",
       "      <td>Damaged Tree</td>\n",
       "      <td>Closed</td>\n",
       "      <td>BROOKLYN</td>\n",
       "      <td>11221</td>\n",
       "      <td>40.688370063222735</td>\n",
       "      <td>-73.94491023273594</td>\n",
       "    </tr>\n",
       "    <tr>\n",
       "      <th>395232</th>\n",
       "      <td>18773894</td>\n",
       "      <td>2010-09-27T11:36:47.000</td>\n",
       "      <td>Damaged Tree</td>\n",
       "      <td>Closed</td>\n",
       "      <td>QUEENS</td>\n",
       "      <td>11385</td>\n",
       "      <td>40.70334746719726</td>\n",
       "      <td>-73.85539558661452</td>\n",
       "    </tr>\n",
       "  </tbody>\n",
       "</table>\n",
       "</div>"
      ],
      "text/plain": [
       "       unique_key             created_date complaint_type    status  \\\n",
       "395213   42887988  2019-06-06T10:42:23.000   Damaged Tree    Closed   \n",
       "395215   42891941  2019-06-06T19:49:08.000   Damaged Tree    Closed   \n",
       "395217   42895165  2019-06-07T09:06:35.000   Damaged Tree    Closed   \n",
       "395220   43107758  2017-07-24T10:07:22.000   Damaged Tree  Assigned   \n",
       "395221   43107767  2017-07-24T12:16:59.000   Damaged Tree      Open   \n",
       "395223   47040946  2020-07-30T02:02:56.000   Damaged Tree    Closed   \n",
       "395225   16215031  2010-03-15T15:04:06.000   Damaged Tree    Closed   \n",
       "395229   18342663  2010-07-26T14:12:38.000   Damaged Tree  Assigned   \n",
       "395230   18696166  2010-09-16T21:12:02.000   Damaged Tree    Closed   \n",
       "395232   18773894  2010-09-27T11:36:47.000   Damaged Tree    Closed   \n",
       "\n",
       "              borough incident_zip            latitude           longitude  \n",
       "395213  STATEN ISLAND        10314  40.594216050126846  -74.15820213852852  \n",
       "395215      MANHATTAN        10003   40.72403183460069  -73.99027349922211  \n",
       "395217  STATEN ISLAND        10314   40.59402693178068  -74.15800365008234  \n",
       "395220         QUEENS        11372  40.755311865629004  -73.88519429741868  \n",
       "395221         QUEENS        11375                 NaN                 NaN  \n",
       "395223       BROOKLYN        11207   40.68262243113261   -73.8880704487505  \n",
       "395225       BROOKLYN        11216   40.67702662934846  -73.95267801549666  \n",
       "395229          BRONX        10463  40.884255673730884  -73.88758632273493  \n",
       "395230       BROOKLYN        11221  40.688370063222735  -73.94491023273594  \n",
       "395232         QUEENS        11385   40.70334746719726  -73.85539558661452  "
      ]
     },
     "execution_count": 20,
     "metadata": {},
     "output_type": "execute_result"
    }
   ],
   "source": [
    "dead_dying_tree.tail(10)"
   ]
  },
  {
   "cell_type": "markdown",
   "id": "80ca6076",
   "metadata": {},
   "source": [
    "Now the dataframe is ready to be exported as a csv file and converted into a table in Google BigQuery. "
   ]
  },
  {
   "cell_type": "code",
   "execution_count": 87,
   "id": "58f136ff",
   "metadata": {},
   "outputs": [],
   "source": [
    "dead_dying_tree.to_csv(\"deadTreeRequests.csv\")"
   ]
  },
  {
   "cell_type": "code",
   "execution_count": 21,
   "id": "73022ff3",
   "metadata": {},
   "outputs": [],
   "source": [
    "TotalTree311Requests = new_trees_df.append(dead_dying_tree)"
   ]
  },
  {
   "cell_type": "code",
   "execution_count": 22,
   "id": "f53bffd7",
   "metadata": {},
   "outputs": [
    {
     "data": {
      "text/plain": [
       "(399316, 8)"
      ]
     },
     "execution_count": 22,
     "metadata": {},
     "output_type": "execute_result"
    }
   ],
   "source": [
    "TotalTree311Requests.shape"
   ]
  },
  {
   "cell_type": "code",
   "execution_count": 23,
   "id": "cf6fae16",
   "metadata": {},
   "outputs": [],
   "source": [
    "TotalTree311Requests.to_csv(\"311TreeRequests.csv\")"
   ]
  },
  {
   "cell_type": "markdown",
   "id": "749d9c4a",
   "metadata": {},
   "source": [
    "## Extracting Tree Population Data\n",
    "***\n",
    "We next extracted tree population data from the 2015 \"Street Tree Census\" dataset available for public use in NYC OpenData. This was cleansed and filtered using the same methods we applied to the 311 Requests dataset. The tree population data is a valuable resource for identifying regions of New York City that have been historically under-resourced. We will use this data to compare against our target database to generate population percent changes over time to help the local government or city council officials determine where to apply limited resources. "
   ]
  },
  {
   "cell_type": "code",
   "execution_count": 49,
   "id": "8adf77ba",
   "metadata": {},
   "outputs": [],
   "source": [
    "census2015_url='data.cityofnewyork.us' \n",
    "census2015_set='29bw-z7pj'\n",
    "app_token='OaDaDFKhUvsnpwRgJBNoStfYZ'\n",
    "client = Socrata(census2015_url,app_token)  \n",
    "client.timeout = 60\n",
    "census2015_results = client.get(census2015_set, select=\"status, spc_common, zipcode, borocode, boroname, latitude, longitude, objectid\", limit=800000)\n",
    "census_2015 = pd.DataFrame.from_records(census2015_results)"
   ]
  },
  {
   "cell_type": "code",
   "execution_count": 50,
   "id": "24b47ef1",
   "metadata": {},
   "outputs": [
    {
     "data": {
      "text/plain": [
       "Index(['status', 'spc_common', 'zipcode', 'borocode', 'boroname', 'latitude',\n",
       "       'longitude', 'objectid'],\n",
       "      dtype='object')"
      ]
     },
     "execution_count": 50,
     "metadata": {},
     "output_type": "execute_result"
    }
   ],
   "source": [
    "census_2015.columns"
   ]
  },
  {
   "cell_type": "code",
   "execution_count": 51,
   "id": "d52660c6",
   "metadata": {},
   "outputs": [
    {
     "data": {
      "text/plain": [
       "(592372, 8)"
      ]
     },
     "execution_count": 51,
     "metadata": {},
     "output_type": "execute_result"
    }
   ],
   "source": [
    "census_2015.shape"
   ]
  },
  {
   "cell_type": "code",
   "execution_count": 52,
   "id": "737811ae",
   "metadata": {},
   "outputs": [
    {
     "data": {
      "text/html": [
       "<div>\n",
       "<style scoped>\n",
       "    .dataframe tbody tr th:only-of-type {\n",
       "        vertical-align: middle;\n",
       "    }\n",
       "\n",
       "    .dataframe tbody tr th {\n",
       "        vertical-align: top;\n",
       "    }\n",
       "\n",
       "    .dataframe thead th {\n",
       "        text-align: right;\n",
       "    }\n",
       "</style>\n",
       "<table border=\"1\" class=\"dataframe\">\n",
       "  <thead>\n",
       "    <tr style=\"text-align: right;\">\n",
       "      <th></th>\n",
       "      <th>status</th>\n",
       "      <th>spc_common</th>\n",
       "      <th>zipcode</th>\n",
       "      <th>borocode</th>\n",
       "      <th>boroname</th>\n",
       "      <th>latitude</th>\n",
       "      <th>longitude</th>\n",
       "      <th>objectid</th>\n",
       "    </tr>\n",
       "  </thead>\n",
       "  <tbody>\n",
       "    <tr>\n",
       "      <th>0</th>\n",
       "      <td>Good</td>\n",
       "      <td>PEAR, CALLERY</td>\n",
       "      <td>11219</td>\n",
       "      <td>3</td>\n",
       "      <td>Brooklyn</td>\n",
       "      <td>40.63265321</td>\n",
       "      <td>-74.00024499</td>\n",
       "      <td>592373</td>\n",
       "    </tr>\n",
       "    <tr>\n",
       "      <th>1</th>\n",
       "      <td>Good</td>\n",
       "      <td>LONDON PLANETREE</td>\n",
       "      <td>11234</td>\n",
       "      <td>3</td>\n",
       "      <td>Brooklyn</td>\n",
       "      <td>40.62008375</td>\n",
       "      <td>-73.9014528</td>\n",
       "      <td>592374</td>\n",
       "    </tr>\n",
       "    <tr>\n",
       "      <th>2</th>\n",
       "      <td>Good</td>\n",
       "      <td>MAPLE, NORWAY-CR KNG</td>\n",
       "      <td>11234</td>\n",
       "      <td>3</td>\n",
       "      <td>Brooklyn</td>\n",
       "      <td>40.61799567</td>\n",
       "      <td>-73.89911096</td>\n",
       "      <td>592375</td>\n",
       "    </tr>\n",
       "    <tr>\n",
       "      <th>3</th>\n",
       "      <td>Good</td>\n",
       "      <td>LONDON PLANETREE</td>\n",
       "      <td>11234</td>\n",
       "      <td>3</td>\n",
       "      <td>Brooklyn</td>\n",
       "      <td>40.6196936</td>\n",
       "      <td>-73.90100311</td>\n",
       "      <td>592376</td>\n",
       "    </tr>\n",
       "    <tr>\n",
       "      <th>4</th>\n",
       "      <td>Good</td>\n",
       "      <td>LONDON PLANETREE</td>\n",
       "      <td>11234</td>\n",
       "      <td>3</td>\n",
       "      <td>Brooklyn</td>\n",
       "      <td>40.61832261</td>\n",
       "      <td>-73.89946707</td>\n",
       "      <td>592377</td>\n",
       "    </tr>\n",
       "    <tr>\n",
       "      <th>5</th>\n",
       "      <td>Poor</td>\n",
       "      <td>LONDON PLANETREE</td>\n",
       "      <td>11234</td>\n",
       "      <td>3</td>\n",
       "      <td>Brooklyn</td>\n",
       "      <td>40.61609332</td>\n",
       "      <td>-73.9020386</td>\n",
       "      <td>592378</td>\n",
       "    </tr>\n",
       "    <tr>\n",
       "      <th>6</th>\n",
       "      <td>Good</td>\n",
       "      <td>LONDON PLANETREE</td>\n",
       "      <td>11234</td>\n",
       "      <td>3</td>\n",
       "      <td>Brooklyn</td>\n",
       "      <td>40.61423267</td>\n",
       "      <td>-73.90242312</td>\n",
       "      <td>592379</td>\n",
       "    </tr>\n",
       "    <tr>\n",
       "      <th>7</th>\n",
       "      <td>Excellent</td>\n",
       "      <td>LONDON PLANETREE</td>\n",
       "      <td>11234</td>\n",
       "      <td>3</td>\n",
       "      <td>Brooklyn</td>\n",
       "      <td>40.61846207</td>\n",
       "      <td>-73.9158994</td>\n",
       "      <td>592380</td>\n",
       "    </tr>\n",
       "    <tr>\n",
       "      <th>8</th>\n",
       "      <td>Excellent</td>\n",
       "      <td>MAPLE, NORWAY-CR KNG</td>\n",
       "      <td>11234</td>\n",
       "      <td>3</td>\n",
       "      <td>Brooklyn</td>\n",
       "      <td>40.61848954</td>\n",
       "      <td>-73.91593179</td>\n",
       "      <td>592381</td>\n",
       "    </tr>\n",
       "    <tr>\n",
       "      <th>9</th>\n",
       "      <td>Good</td>\n",
       "      <td>HAWTHORN, OTHER</td>\n",
       "      <td>11219</td>\n",
       "      <td>3</td>\n",
       "      <td>Brooklyn</td>\n",
       "      <td>40.63242265</td>\n",
       "      <td>-73.9998667</td>\n",
       "      <td>592382</td>\n",
       "    </tr>\n",
       "  </tbody>\n",
       "</table>\n",
       "</div>"
      ],
      "text/plain": [
       "      status            spc_common zipcode borocode  boroname     latitude  \\\n",
       "0       Good         PEAR, CALLERY   11219        3  Brooklyn  40.63265321   \n",
       "1       Good      LONDON PLANETREE   11234        3  Brooklyn  40.62008375   \n",
       "2       Good  MAPLE, NORWAY-CR KNG   11234        3  Brooklyn  40.61799567   \n",
       "3       Good      LONDON PLANETREE   11234        3  Brooklyn   40.6196936   \n",
       "4       Good      LONDON PLANETREE   11234        3  Brooklyn  40.61832261   \n",
       "5       Poor      LONDON PLANETREE   11234        3  Brooklyn  40.61609332   \n",
       "6       Good      LONDON PLANETREE   11234        3  Brooklyn  40.61423267   \n",
       "7  Excellent      LONDON PLANETREE   11234        3  Brooklyn  40.61846207   \n",
       "8  Excellent  MAPLE, NORWAY-CR KNG   11234        3  Brooklyn  40.61848954   \n",
       "9       Good       HAWTHORN, OTHER   11219        3  Brooklyn  40.63242265   \n",
       "\n",
       "      longitude objectid  \n",
       "0  -74.00024499   592373  \n",
       "1   -73.9014528   592374  \n",
       "2  -73.89911096   592375  \n",
       "3  -73.90100311   592376  \n",
       "4  -73.89946707   592377  \n",
       "5   -73.9020386   592378  \n",
       "6  -73.90242312   592379  \n",
       "7   -73.9158994   592380  \n",
       "8  -73.91593179   592381  \n",
       "9   -73.9998667   592382  "
      ]
     },
     "execution_count": 52,
     "metadata": {},
     "output_type": "execute_result"
    }
   ],
   "source": [
    "census_2015.head(10)"
   ]
  },
  {
   "cell_type": "code",
   "execution_count": null,
   "id": "5e158e67",
   "metadata": {},
   "outputs": [],
   "source": [
    "census_2015.to_csv(\"TreeCensus2015.csv\")"
   ]
  },
  {
   "cell_type": "markdown",
   "id": "c2182e13",
   "metadata": {},
   "source": [
    "***\n",
    "\n",
    "\n",
    "***"
   ]
  },
  {
   "cell_type": "markdown",
   "id": "a9c0ffd2",
   "metadata": {},
   "source": [
    "*Note: this notebook contains additional ETL work for two other urban tree census datasets: 1995 and 2005. We may include figures from these datasets in our final presentation in the form of scorecards or other simple visualizations. However, they are no longer part of our KPI metrics.*"
   ]
  },
  {
   "cell_type": "code",
   "execution_count": 24,
   "id": "b790889b",
   "metadata": {},
   "outputs": [],
   "source": [
    "census_url='data.cityofnewyork.us' \n",
    "census_set='kyad-zm4j'\n",
    "app_token='OaDaDFKhUvsnpwRgJBNoStfYZ'\n",
    "client = Socrata(census_url,app_token)  \n",
    "client.timeout = 60\n",
    "census_results = client.get(census_set, limit=600000)\n",
    "census_1995 = pd.DataFrame.from_records(census_results)"
   ]
  },
  {
   "cell_type": "code",
   "execution_count": 38,
   "id": "f033eba7",
   "metadata": {},
   "outputs": [
    {
     "data": {
      "text/plain": [
       "(516989, 35)"
      ]
     },
     "execution_count": 38,
     "metadata": {},
     "output_type": "execute_result"
    }
   ],
   "source": [
    "census_1995.shape"
   ]
  },
  {
   "cell_type": "code",
   "execution_count": 25,
   "id": "2cdab42b",
   "metadata": {},
   "outputs": [],
   "source": [
    "census_1995 = census_1995.drop(columns=['address', 'house_number', 'street', 'site', 'species', 'council_district', 'bin', 'bbl', ':@computed_region_efsh_h5xi', ':@computed_region_f5dn_yrer', ':@computed_region_yeji_bk3q', ':@computed_region_92fq_4b7q', ':@computed_region_sbqj_enih','zip_original','cb_original', 'wires','sidewalk_condition', 'support_structure', 'x', 'spc_latin', 'location','segmentid','nta_2010', 'censusblock_2010','censustract_2010','y',])"
   ]
  },
  {
   "cell_type": "code",
   "execution_count": 26,
   "id": "40557fd0",
   "metadata": {},
   "outputs": [
    {
     "data": {
      "text/plain": [
       "(516989, 9)"
      ]
     },
     "execution_count": 26,
     "metadata": {},
     "output_type": "execute_result"
    }
   ],
   "source": [
    "census_1995.shape"
   ]
  },
  {
   "cell_type": "code",
   "execution_count": 27,
   "id": "454b2e4e",
   "metadata": {},
   "outputs": [
    {
     "data": {
      "text/html": [
       "<div>\n",
       "<style scoped>\n",
       "    .dataframe tbody tr th:only-of-type {\n",
       "        vertical-align: middle;\n",
       "    }\n",
       "\n",
       "    .dataframe tbody tr th {\n",
       "        vertical-align: top;\n",
       "    }\n",
       "\n",
       "    .dataframe thead th {\n",
       "        text-align: right;\n",
       "    }\n",
       "</style>\n",
       "<table border=\"1\" class=\"dataframe\">\n",
       "  <thead>\n",
       "    <tr style=\"text-align: right;\">\n",
       "      <th></th>\n",
       "      <th>recordid</th>\n",
       "      <th>diameter</th>\n",
       "      <th>condition</th>\n",
       "      <th>borough</th>\n",
       "      <th>longitude</th>\n",
       "      <th>latitude</th>\n",
       "      <th>cb_new</th>\n",
       "      <th>zip_new</th>\n",
       "      <th>spc_common</th>\n",
       "    </tr>\n",
       "  </thead>\n",
       "  <tbody>\n",
       "    <tr>\n",
       "      <th>0</th>\n",
       "      <td>1</td>\n",
       "      <td>8</td>\n",
       "      <td>Unknown</td>\n",
       "      <td>Manhattan</td>\n",
       "      <td>-73.984235</td>\n",
       "      <td>40.734551</td>\n",
       "      <td>106</td>\n",
       "      <td>10003</td>\n",
       "      <td>LONDON PLANETREE</td>\n",
       "    </tr>\n",
       "    <tr>\n",
       "      <th>1</th>\n",
       "      <td>2</td>\n",
       "      <td>7</td>\n",
       "      <td>Good</td>\n",
       "      <td>Manhattan</td>\n",
       "      <td>-74.010532</td>\n",
       "      <td>40.720159</td>\n",
       "      <td>101</td>\n",
       "      <td>10013</td>\n",
       "      <td>MAPLE, NORWAY</td>\n",
       "    </tr>\n",
       "    <tr>\n",
       "      <th>2</th>\n",
       "      <td>3</td>\n",
       "      <td>6</td>\n",
       "      <td>Good</td>\n",
       "      <td>Manhattan</td>\n",
       "      <td>-74.010532</td>\n",
       "      <td>40.720159</td>\n",
       "      <td>101</td>\n",
       "      <td>10013</td>\n",
       "      <td>MAPLE, NORWAY</td>\n",
       "    </tr>\n",
       "    <tr>\n",
       "      <th>3</th>\n",
       "      <td>4</td>\n",
       "      <td>7</td>\n",
       "      <td>Excellent</td>\n",
       "      <td>Manhattan</td>\n",
       "      <td>-74.010532</td>\n",
       "      <td>40.720159</td>\n",
       "      <td>101</td>\n",
       "      <td>10013</td>\n",
       "      <td>MAPLE, NORWAY</td>\n",
       "    </tr>\n",
       "    <tr>\n",
       "      <th>4</th>\n",
       "      <td>5</td>\n",
       "      <td>6</td>\n",
       "      <td>Good</td>\n",
       "      <td>Manhattan</td>\n",
       "      <td>-74.010532</td>\n",
       "      <td>40.720159</td>\n",
       "      <td>101</td>\n",
       "      <td>10013</td>\n",
       "      <td>MAPLE, NORWAY</td>\n",
       "    </tr>\n",
       "    <tr>\n",
       "      <th>5</th>\n",
       "      <td>6</td>\n",
       "      <td>6</td>\n",
       "      <td>Good</td>\n",
       "      <td>Manhattan</td>\n",
       "      <td>-74.010532</td>\n",
       "      <td>40.720159</td>\n",
       "      <td>101</td>\n",
       "      <td>10013</td>\n",
       "      <td>JAPANESE PAGODA TREE</td>\n",
       "    </tr>\n",
       "    <tr>\n",
       "      <th>6</th>\n",
       "      <td>7</td>\n",
       "      <td>7</td>\n",
       "      <td>Excellent</td>\n",
       "      <td>Manhattan</td>\n",
       "      <td>-74.010532</td>\n",
       "      <td>40.720159</td>\n",
       "      <td>101</td>\n",
       "      <td>10013</td>\n",
       "      <td>MAPLE, NORWAY</td>\n",
       "    </tr>\n",
       "    <tr>\n",
       "      <th>7</th>\n",
       "      <td>8</td>\n",
       "      <td>7</td>\n",
       "      <td>Poor</td>\n",
       "      <td>Manhattan</td>\n",
       "      <td>-74.010532</td>\n",
       "      <td>40.720159</td>\n",
       "      <td>101</td>\n",
       "      <td>10013</td>\n",
       "      <td>MAPLE, NORWAY</td>\n",
       "    </tr>\n",
       "    <tr>\n",
       "      <th>8</th>\n",
       "      <td>9</td>\n",
       "      <td>4</td>\n",
       "      <td>Poor</td>\n",
       "      <td>Manhattan</td>\n",
       "      <td>-74.010532</td>\n",
       "      <td>40.720159</td>\n",
       "      <td>101</td>\n",
       "      <td>10013</td>\n",
       "      <td>JAPANESE PAGODA TREE</td>\n",
       "    </tr>\n",
       "    <tr>\n",
       "      <th>9</th>\n",
       "      <td>10</td>\n",
       "      <td>7</td>\n",
       "      <td>Poor</td>\n",
       "      <td>Manhattan</td>\n",
       "      <td>-74.010532</td>\n",
       "      <td>40.720159</td>\n",
       "      <td>101</td>\n",
       "      <td>10013</td>\n",
       "      <td>MAPLE, NORWAY</td>\n",
       "    </tr>\n",
       "  </tbody>\n",
       "</table>\n",
       "</div>"
      ],
      "text/plain": [
       "  recordid diameter  condition    borough   longitude   latitude cb_new  \\\n",
       "0        1        8    Unknown  Manhattan  -73.984235  40.734551    106   \n",
       "1        2        7       Good  Manhattan  -74.010532  40.720159    101   \n",
       "2        3        6       Good  Manhattan  -74.010532  40.720159    101   \n",
       "3        4        7  Excellent  Manhattan  -74.010532  40.720159    101   \n",
       "4        5        6       Good  Manhattan  -74.010532  40.720159    101   \n",
       "5        6        6       Good  Manhattan  -74.010532  40.720159    101   \n",
       "6        7        7  Excellent  Manhattan  -74.010532  40.720159    101   \n",
       "7        8        7       Poor  Manhattan  -74.010532  40.720159    101   \n",
       "8        9        4       Poor  Manhattan  -74.010532  40.720159    101   \n",
       "9       10        7       Poor  Manhattan  -74.010532  40.720159    101   \n",
       "\n",
       "  zip_new            spc_common  \n",
       "0   10003      LONDON PLANETREE  \n",
       "1   10013         MAPLE, NORWAY  \n",
       "2   10013         MAPLE, NORWAY  \n",
       "3   10013         MAPLE, NORWAY  \n",
       "4   10013         MAPLE, NORWAY  \n",
       "5   10013  JAPANESE PAGODA TREE  \n",
       "6   10013         MAPLE, NORWAY  \n",
       "7   10013         MAPLE, NORWAY  \n",
       "8   10013  JAPANESE PAGODA TREE  \n",
       "9   10013         MAPLE, NORWAY  "
      ]
     },
     "execution_count": 27,
     "metadata": {},
     "output_type": "execute_result"
    }
   ],
   "source": [
    "census_1995.head(10)"
   ]
  },
  {
   "cell_type": "code",
   "execution_count": 50,
   "id": "3530cfdd",
   "metadata": {},
   "outputs": [],
   "source": [
    "census_1995.to_csv(\"TreeCensus1995.csv\")"
   ]
  },
  {
   "cell_type": "markdown",
   "id": "ae583b9b",
   "metadata": {},
   "source": [
    "The process was repeated to extract additonal population data from other public datasets:"
   ]
  },
  {
   "cell_type": "code",
   "execution_count": 28,
   "id": "821cb0e7",
   "metadata": {},
   "outputs": [],
   "source": [
    "census2005_url='data.cityofnewyork.us' \n",
    "census2005_set='29bw-z7pj'\n",
    "app_token='OaDaDFKhUvsnpwRgJBNoStfYZ'\n",
    "client = Socrata(census2005_url,app_token)  \n",
    "client.timeout = 60\n",
    "census2005_results = client.get(census2005_set, limit=600000)\n",
    "census_2005 = pd.DataFrame.from_records(census2005_results)"
   ]
  },
  {
   "cell_type": "code",
   "execution_count": 32,
   "id": "87e22e4c",
   "metadata": {},
   "outputs": [
    {
     "data": {
      "text/plain": [
       "Index(['objectid', 'cen_year', 'tree_dbh', 'address', 'tree_loc', 'pit_type',\n",
       "       'soil_lvl', 'status', 'spc_latin', 'spc_common', 'vert_other',\n",
       "       'vert_pgrd', 'vert_tgrd', 'vert_wall', 'horz_blck', 'horz_grate',\n",
       "       'horz_plant', 'horz_other', 'sidw_crack', 'sidw_raise', 'wire_htap',\n",
       "       'wire_prime', 'wire_2nd', 'wire_other', 'inf_canopy', 'inf_guard',\n",
       "       'inf_wires', 'inf_paving', 'inf_outlet', 'inf_shoes', 'inf_lights',\n",
       "       'inf_other', 'trunk_dmg', 'zipcode', 'zip_city', 'cb_num', 'borocode',\n",
       "       'boroname', 'cncldist', 'st_assem', 'st_senate', 'nta', 'nta_name',\n",
       "       'boro_ct', 'state', 'latitude', 'longitude', 'x_sp', 'y_sp',\n",
       "       'objectid_1', 'census_tract', 'bin', 'bbl', 'location_1',\n",
       "       ':@computed_region_efsh_h5xi', ':@computed_region_f5dn_yrer',\n",
       "       ':@computed_region_yeji_bk3q', ':@computed_region_92fq_4b7q',\n",
       "       ':@computed_region_sbqj_enih'],\n",
       "      dtype='object')"
      ]
     },
     "execution_count": 32,
     "metadata": {},
     "output_type": "execute_result"
    }
   ],
   "source": [
    "census_2005.columns"
   ]
  },
  {
   "cell_type": "code",
   "execution_count": 42,
   "id": "0ceb1f3e",
   "metadata": {},
   "outputs": [],
   "source": [
    "census2005_results = client.get(census2005_set, select=\"status, spc_common, zipcode, borocode, boroname, latitude, longitude, trunk_dmg, objectid\", limit=600000)"
   ]
  },
  {
   "cell_type": "code",
   "execution_count": 43,
   "id": "6e4cba5e",
   "metadata": {},
   "outputs": [],
   "source": [
    "census_2005 = pd.DataFrame.from_records(census2005_results)"
   ]
  },
  {
   "cell_type": "code",
   "execution_count": 44,
   "id": "77280065",
   "metadata": {},
   "outputs": [
    {
     "data": {
      "text/plain": [
       "Index(['status', 'spc_common', 'zipcode', 'borocode', 'boroname', 'latitude',\n",
       "       'longitude', 'trunk_dmg', 'objectid'],\n",
       "      dtype='object')"
      ]
     },
     "execution_count": 44,
     "metadata": {},
     "output_type": "execute_result"
    }
   ],
   "source": [
    "census_2005.columns"
   ]
  },
  {
   "cell_type": "code",
   "execution_count": 45,
   "id": "f4fbb04f",
   "metadata": {},
   "outputs": [
    {
     "data": {
      "text/plain": [
       "(592372, 9)"
      ]
     },
     "execution_count": 45,
     "metadata": {},
     "output_type": "execute_result"
    }
   ],
   "source": [
    "census_2005.shape"
   ]
  },
  {
   "cell_type": "code",
   "execution_count": 46,
   "id": "47fceb41",
   "metadata": {},
   "outputs": [],
   "source": [
    "census_2005.to_csv(\"TreeCensus2005.csv\")"
   ]
  }
 ],
 "metadata": {
  "kernelspec": {
   "display_name": "Python 3",
   "language": "python",
   "name": "python3"
  },
  "language_info": {
   "codemirror_mode": {
    "name": "ipython",
    "version": 3
   },
   "file_extension": ".py",
   "mimetype": "text/x-python",
   "name": "python",
   "nbconvert_exporter": "python",
   "pygments_lexer": "ipython3",
   "version": "3.8.8"
  }
 },
 "nbformat": 4,
 "nbformat_minor": 5
}
